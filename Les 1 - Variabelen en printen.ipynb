{
 "cells": [
  {
   "cell_type": "markdown",
   "metadata": {
    "collapsed": true
   },
   "source": [
    "# Programeren les 1\n",
    "Zoals je kunt lezen in les 0 is een programma iets wat ___input___ (kan) krijgen en ___output___ (kan) genereren.\n",
    "Input kan op verschillende manieren worden ingegeven maar wij gaan eerst werken met output.\n",
    "\n",
    "We gaan in de komende les dus kleine programma's maken die geen input krijgen, \n",
    "maar wel output genereren.\n",
    "\n",
    "## Hello world\n",
    "De eerste stap in programeren is het ___printen___ van output.\n",
    "Als een programeur een nieuwe ___programeertaal___ gebruikt maakt hij vaak eerst een zogenaamd _'hello word'_ programma.\n",
    "Zij doen dit om te testen of hun omgeving goed werkt en om te kijken of zij de ___syntax___ bergijpen.\n",
    "\n",
    "In _Python_ kan een programma output genereren met de `print` functie.\n",
    "Wat een functie precies is behandelen we later.\n",
    "Voor nu moet je weten wat de syntax is die je moet gebruiken.\n",
    "\n",
    "Voer onderstaande cell uit:"
   ]
  },
  {
   "cell_type": "code",
   "execution_count": null,
   "metadata": {
    "scrolled": true
   },
   "outputs": [],
   "source": [
    "print(\"Hello world\");"
   ]
  },
  {
   "cell_type": "markdown",
   "metadata": {},
   "source": [
    "Zoals je ziet komt er onder de cell 'hello world' te staan.\n",
    "Dat is de output van het programma.\n",
    "Ons programma is nu heel simpel, het genereert alleen de output 'hello world'.\n",
    "\n",
    "## Opdracht 1.1\n",
    "Print `hello [jouw naam]` uit in onderstaande cell (zonder blokhaken []!). "
   ]
  },
  {
   "cell_type": "code",
   "execution_count": null,
   "metadata": {},
   "outputs": [],
   "source": []
  },
  {
   "cell_type": "markdown",
   "metadata": {},
   "source": [
    "# Variabelen\n",
    "Een programma verwerkt dus informatie.\n",
    "Deze informatie staat in de computer opgeslagen op het geheugen.\n",
    "Wij kunnen deze informatie opslaan in variablen.\n",
    "Een variable is net als in wiskunde een sluitel die een waarde representeert.\n",
    "\n",
    "Denk bijvoorbeeld aan jouw naam. \n",
    "Als wij deze in een variable zouden zetten zou het er zo uitzien:\n",
    "\n",
    "`voornaam = \"jouw naam\"`\n",
    "\n",
    "Een variable kan dus aangemaakt worden en verwijst naar een waarde.\n",
    "Je kunt de naam van de variable door het programma heen gebruiken om de waarde die het representeert te gebruiken.\n",
    "Wij kunnen dus een variable maken met de naam `voornaam` en daar een waarde aan koppelen die jouw naam heeft.\n",
    "En dan je naam uitprinten door in de `print` functie de variable `voornaam` te gebruiken.\n",
    "\n",
    "Zie het voorbeeld:"
   ]
  },
  {
   "cell_type": "code",
   "execution_count": null,
   "metadata": {},
   "outputs": [],
   "source": [
    "voornaam = \"Testnaam\"\n",
    "print(voornaam)"
   ]
  },
  {
   "cell_type": "markdown",
   "metadata": {},
   "source": [
    "Een variable heeft de volgende syntax regels:\n",
    "\n",
    "   1. Eerste karakter moet bestaan uit een letter of '_' lage streepje;\n",
    "   1. Daarop volgende karakters mogen bestaan uit letters, cijfers of '_' lage streepjes;\n",
    "   1. Een variable mag niet uit een syntax gerelateerde term bestaan.\n",
    "   \n",
    "Zie voorbeeld:\n",
    "\n",
    "        a = \"waarde\"            #goed\n",
    "        a1 = \"waarde\"           #goed\n",
    "        _sluitel = \"waarde\"     #goed\n",
    "        sluitel_1 = \"waarde\"    #goed\n",
    "        sluitel1 = \"waarde\"     #goed\n",
    "        \n",
    "        1 = \"waarde\"            #fout -> niet met nummer beginnen\n",
    "        1sluitel = \"waarde\"     #fout -> niet met nummer beginnen\n",
    "        sluitel 1 = \"waarde\"    #fout -> spaties mogen niet\n",
    "        \"sluitel\" = \"waarde\"    #fout -> speciale tekens mogen niet (met uitzonderin van '_' lage streepje)\n"
   ]
  },
  {
   "cell_type": "markdown",
   "metadata": {},
   "source": [
    "## Opdracht 1.2\n",
    "Maak een variable met je achternaam en print deze uit."
   ]
  },
  {
   "cell_type": "code",
   "execution_count": null,
   "metadata": {},
   "outputs": [],
   "source": []
  },
  {
   "cell_type": "markdown",
   "metadata": {},
   "source": [
    "### Inspecteren\n",
    "Nu heb je dus je achternaam in een variable opgeslagen.\n",
    "Deze variable staat in het geheugen van de computer.\n",
    "Hij zal daar blijven staan totdat je deze pagina afsluit.\n",
    "Alleen vanuit de codecellen in deze pagina heb jij toegang tot de variable.\n",
    "\n",
    "Laten we dit even ___inspecteren___, we kunnen dit op twee manieren doen.\n",
    "Je hebt in bovenstaande opdracht de variable uitgeprint.\n",
    "Zo kun je zien of de variable bestaat en welke waarde eraan gekoppeld zit.\n",
    "Maar wij kunnen ook alle variablen zien die via deze Jupiter Notebook pagina zijn aangemaakt.\n",
    "Klik op de 'Variable Inspector' knop, dit is de laatste knop in met het vizier logo.\n",
    "Nu zie je een schermpje met daarin alle variablen die zijn ___gedeclareerd___."
   ]
  },
  {
   "cell_type": "markdown",
   "metadata": {},
   "source": [
    "## Data types\n",
    "Een variable heeft dus een waarde.\n",
    "Dit noemen we ook wel data.\n",
    "Deze data kan in principe bestaan uit een aantal verschillende data types.\n",
    "Deze zijn heel basic, we zetten ze even op een rij:\n",
    "\n",
    "   1. ___String___\n",
    "   2. ___Integer___\n",
    "   3. ___Float___ (word ook wel ___Double___ genoemt)\n",
    "   4. ___Boolean___\n",
    "   5. ___Array___\n",
    "   6. ___Object___\n",
    "   \n",
    "Om het niet al te moeilijk te maken gaan we beginnen met de bovenste twee.\n",
    "Later behandelen we de andere types.\n",
    "\n",
    "### String\n",
    "Een string is simpelgezegd gewoon tekst.\n",
    "Je hebt aan de variable `achternaam` een waarde gekoppeld van het type string.\n",
    "Dit kunnen we controleren (dit noemen we doorgaans dus ook wel inspecteren) door de functie `str()` te gebruiken.\n",
    "\n",
    "Probeer het maar in de cell hieronder:"
   ]
  },
  {
   "cell_type": "code",
   "execution_count": null,
   "metadata": {},
   "outputs": [],
   "source": [
    "type(voornaam)"
   ]
  },
  {
   "cell_type": "markdown",
   "metadata": {},
   "source": [
    "Als het goed is zie je `str` als output.\n",
    "`str` staat dus als afkorting voor string.\n",
    "Je kunt het type ook controleren in de _Variable Inspetor_.\n",
    "\n",
    "Met tekst kunnen we heel wat dingen doen.\n",
    "We kunnen het analyseren, manipuleren etc.\n",
    "Voor nu houden we het even simpel.\n",
    "\n",
    "Iets wat je veel gaat gebruiken is ___concatination___.\n",
    "Dit betekend gewoon dat je twee strings aan elkaar plakt en daar dus een string van maakt.\n",
    "Dit werkt dus ook met variablen.\n",
    "Zo kunnen we bijvoorbeeld dit doen:"
   ]
  },
  {
   "cell_type": "code",
   "execution_count": null,
   "metadata": {},
   "outputs": [],
   "source": [
    "beroep = \"Bakker\"\n",
    "jaren = 22\n",
    "zin = \"Ik ben \"+beroep+\" en dat doe ik al \"+str(jaren)+\" jaar\"\n",
    "\n",
    "print(zin)"
   ]
  },
  {
   "cell_type": "markdown",
   "metadata": {},
   "source": [
    "Voer bovenstaande cell uit en bekijk de output.\n",
    "Analyseer de code goed, en probeer de syntax te begrijpen.\n",
    "Zoals je ziet plak je met een `+` plus teken strings aan elkaar.\n",
    "\n",
    "Er is alleen een probleempje, de variable `jaren` is van het type int, omdat dit een getal is.\n",
    "Daarom moeten wij deze waarde eerst ___converteren___ naar een string.\n",
    "\n",
    "## Opdracht 1.3\n",
    "Print `Hallo wereld ik ben [voornaam] [achternaam]`. Je moet hiervoor de variable `voornaam` overschijven! "
   ]
  },
  {
   "cell_type": "code",
   "execution_count": null,
   "metadata": {},
   "outputs": [],
   "source": []
  },
  {
   "cell_type": "markdown",
   "metadata": {},
   "source": [
    "## Integer\n",
    "Een integer is gewoon een getal, maar dan wel alleen een heel getal.\n",
    "Getallen met een cijfer achter de comma worden op een andere manier door een computer verwerkt, en daarom hebben ze een andere data type.\n",
    "\n",
    "Met getallen kunnen wij uiteraard rekenen en dit gaat heel makkelijk.\n",
    "Kijk maar naar het volgende voorbeeld:"
   ]
  },
  {
   "cell_type": "code",
   "execution_count": null,
   "metadata": {
    "scrolled": true
   },
   "outputs": [],
   "source": [
    "3 * 15"
   ]
  },
  {
   "cell_type": "markdown",
   "metadata": {},
   "source": [
    "Daarbij kunnen wij dus getallen opslaan in variablen.\n",
    "Op deze manier kunnen we rekensommen opslaan als formules.\n",
    "\n",
    "__Hoeveel snoep kan ik kopen formule__"
   ]
  },
  {
   "cell_type": "code",
   "execution_count": null,
   "metadata": {
    "scrolled": true
   },
   "outputs": [],
   "source": [
    "gewichtVanSnoepZakInGram = 4\n",
    "prijsPerSnoepZak = 2\n",
    "zakgeld = 8\n",
    "\n",
    "hoeveelSnoepKanIkKopen = (zakgeld / prijsPerSnoepZak) * gewichtVanSnoepZakInGram\n",
    "\n",
    "print(\"Je kan \" + str(hoeveelSnoepKanIkKopen )+ \" gram snoep kopen\")"
   ]
  },
  {
   "cell_type": "markdown",
   "metadata": {},
   "source": [
    "### Rekenkundige operators\n",
    "Je kunt met getallen dus rekenen.\n",
    "Om dit te kunnen doen heb je een aantal rekenkundige operators.\n",
    "Sommigen komen je wel bekend voor, anderen zijn misschien een beetje anders dan je gewend bent.\n",
    "\n",
    "__Optellen__\n",
    "\n",
    "`1+1`\n",
    "\n",
    "__Aftrekken__\n",
    "\n",
    "`1-1`\n",
    "\n",
    "__Vermenigvuldigen__\n",
    "\n",
    "`1*1` (Sterretje)\n",
    "\n",
    "__Delen__\n",
    "\n",
    "`1/1`\n",
    "\n",
    "\n",
    "Daarnaast kun je met haken '()' de volgorde van een berekening bepalen.\n",
    "Dit leer je ook met rekenen of later met wiskunde.\n",
    "Als je een formule maakt dan moet je die uitvoeren in een bepaalde volgorde.\n",
    "\n",
    "Voorbeeld:\n",
    "\n",
    "`2+1/3*8`\n",
    "\n",
    "Als de computer dit zou doen word er eerst vermenigvuldigd dan gedeeld en dan pas wordt er opgeteld en afgetrokken.\n",
    "Dit is misschien even lastig om te begrijpen maar kijk maar even naar het voorbeeld hieronder:"
   ]
  },
  {
   "cell_type": "code",
   "execution_count": null,
   "metadata": {},
   "outputs": [],
   "source": [
    "2+1/3*8"
   ]
  },
  {
   "cell_type": "code",
   "execution_count": null,
   "metadata": {},
   "outputs": [],
   "source": [
    "(2+1)/3*8"
   ]
  },
  {
   "cell_type": "markdown",
   "metadata": {},
   "source": [
    "Zoals je ziet word de uitkomst van de som heel anders omdat we de computer vetellen eerst `(2+1)` te doen voordat de rest word gedaan.\n",
    "\n",
    "## Opdracht 1.4\n",
    "Laten we nu proberen om zelf te gaan rekenen met code.\n",
    "Eerst leggen wij een casus voor.\n",
    "Daarna ga jij bedenken hoe je dit met code kunt oplossen.\n",
    "Je kunt kijken naar de code van __snoep formule__ als voorbeeld.\n",
    "\n",
    "__Casus__\n",
    "Je wilt een nieuwe telefoon kopen.\n",
    "Deze kost 400 euro.\n",
    "Je krijgt per week 10 euro zakgeld, en voor je verjaardag heb je 180 euro gekregen.\n",
    "Daarnaast heb je al 70 euro gespaart.\n",
    "Hoeveel weken moet je nog sparen voordat je de nieuwe telefoon kan kopen?\n",
    "\n",
    "___Tip___ _Maak eerst van alle waarden die je hebt een variable. Reken daarna in een nieuwe variable het antwoord uit. En vergeet het antwoord niet te printen._"
   ]
  },
  {
   "cell_type": "code",
   "execution_count": null,
   "metadata": {},
   "outputs": [],
   "source": []
  },
  {
   "cell_type": "markdown",
   "metadata": {},
   "source": [
    "## Opdracht 1.5\n",
    "Laten we nog een casus proberen. Maar dit keer met een stukje tekst erbij. Als we getallen in tekst willen gebruiken moeten wij deze eerst met de `str()` functie omzetten naar tekst. zie voorbeeld:"
   ]
  },
  {
   "cell_type": "code",
   "execution_count": null,
   "metadata": {},
   "outputs": [],
   "source": [
    "getal = 42\n",
    "tekst = \"Het antwoord op alles is \"+ str(getal)\n",
    "print(tekst)"
   ]
  },
  {
   "cell_type": "markdown",
   "metadata": {},
   "source": [
    "Dan nu de casus:\n",
    "\n",
    "__Casus__\n",
    "\n",
    "In een jaar zitten 12 maanden.\n",
    "Met dit gegeven kunnen we een aantal dingen berekenen.\n",
    "We gaan twee dingen berekenen:\n",
    "\n",
    "   1. Hoeveel zakgeld je per jaar krijgt;\n",
    "   1. Hoevaak je moet stofzuigen per jaar;\n",
    "\n",
    "En we geven je een voorbeeldje:"
   ]
  },
  {
   "cell_type": "code",
   "execution_count": null,
   "metadata": {},
   "outputs": [],
   "source": [
    "# Eerst gaan we alle waarden die we weten of nodig hebben in variablen opslaan\n",
    "maandenInJaar = 12 # Dit is een vast gegeven\n",
    "aantalKeerDatIkNaarDeSnoepWinkelGaPerMaand = 4 # Zoals je ziet kun je variable namen heel lang maken\n",
    "\n",
    "# Nu bereken wij het antwoord in een niewe variable\n",
    "# Zoals je ziet hebben de variable namen een duidelijke naam\n",
    "# Aan de naam kun je herlijden wat de betekenis van een variable is\n",
    "bezoekenSnoepWinkelPerJaar = maandenInJaar * aantalKeerDatIkNaarDeSnoepWinkelGaPerMaand\n",
    "\n",
    "# Als laatste printen wij de output naar de gebruiker\n",
    "# Wij doen dit met begelijdende tekst zodat de output duidelijk is voor de gebruiker die het leest\n",
    "print(\"Ik ga \"+str(bezoekenSnoepWinkelPerJaar)+\" keer naar de snoepwinkel per jaar\")"
   ]
  },
  {
   "cell_type": "markdown",
   "metadata": {},
   "source": [
    "Kijk naar het voorbeeld en bereken heoveel zakgeld je per jaar krijgt en hoe vaak je moet stofzuigen per jaar.\n",
    "Je hoeft de variable `maandenInJaar` niet opnieuw te declareren.\n",
    "Als je een variable hebt aangemaakt kun je deze in andere cellen gewoon gebruiken."
   ]
  },
  {
   "cell_type": "code",
   "execution_count": null,
   "metadata": {},
   "outputs": [],
   "source": []
  },
  {
   "cell_type": "markdown",
   "metadata": {},
   "source": [
    "## Vrije opdracht\n",
    "Maak een script met alle zaken die je tot nu toe geleerd hebt.\n",
    "Gebruik het om iets voor je uit te laten rekenen en print het resultaat."
   ]
  },
  {
   "cell_type": "code",
   "execution_count": null,
   "metadata": {},
   "outputs": [],
   "source": []
  },
  {
   "cell_type": "markdown",
   "metadata": {},
   "source": [
    "\n",
    "# Wat kun je nu\n",
    "\n",
    "Je hebt nu de basis van de basis geleerd.\n",
    "Je kunt nu:\n",
    "\n",
    "   1. Variablen aanmaken en hier waarden aan koppelen;\n",
    "   1. Je begrijpt dat deze waarden verschillende data types hebben;\n",
    "   1. Je kunt met het type ___string___ tekst maken en dit aan elkaar plakken (___concatination___);\n",
    "   1. Je kunt tekst als output ___printen___;\n",
    "   1. Je kunt met het type ___integer___ hele getallen aanmaken en hier mee rekenen;\n",
    "   1. Je kunt de uitkomst van een berekening omzetten naar een string en deze printen;\n",
    "\n",
    "\n",
    "# Vervolgstappen\n",
    "Dit was les 1, volgende week gaan we les 2 doen.\n",
    "Laat het maar even inzinken en probeer er een beetje mee te oefenen.\n",
    "Volgende week gaan we weer nieuwe dingen leren, en dan heb je weer dezelfde zaken nodig als die je vandaag hebt geleerd."
   ]
  }
 ],
 "metadata": {
  "kernelspec": {
   "display_name": "Python 3",
   "language": "python",
   "name": "python3"
  },
  "language_info": {
   "codemirror_mode": {
    "name": "ipython",
    "version": 3
   },
   "file_extension": ".py",
   "mimetype": "text/x-python",
   "name": "python",
   "nbconvert_exporter": "python",
   "pygments_lexer": "ipython3",
   "version": "3.6.7"
  },
  "varInspector": {
   "cols": {
    "lenName": 16,
    "lenType": 16,
    "lenVar": 40
   },
   "kernels_config": {
    "python": {
     "delete_cmd_postfix": "",
     "delete_cmd_prefix": "del ",
     "library": "var_list.py",
     "varRefreshCmd": "print(var_dic_list())"
    },
    "r": {
     "delete_cmd_postfix": ") ",
     "delete_cmd_prefix": "rm(",
     "library": "var_list.r",
     "varRefreshCmd": "cat(var_dic_list()) "
    }
   },
   "position": {
    "height": "333px",
    "left": "1532px",
    "right": "20px",
    "top": "151px",
    "width": "350px"
   },
   "types_to_exclude": [
    "module",
    "function",
    "builtin_function_or_method",
    "instance",
    "_Feature"
   ],
   "window_display": true
  }
 },
 "nbformat": 4,
 "nbformat_minor": 2
}
