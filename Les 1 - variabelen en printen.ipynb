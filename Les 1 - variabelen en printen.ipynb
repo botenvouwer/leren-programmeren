{
  "cells": [
    {
      "metadata": {
        "collapsed": true
      },
      "cell_type": "markdown",
      "source": "# Programeren les 1\n\n\nHallo lezer, we beginnen in deze les met de basis van de basis.\nWe kijken naar de volende drie vragen:\n\n1. Waarom programeren?\n1. Wat is programeren?\n1. Hoe moet je programeren?\n\n## Waarom programeren\n\nInformatie is overal om ons heen en word in de toekomst steeds belangrijker.\nSinds mensen schift hebben uitgevonden word informatie structureel opgelsagen als tekst.\nVroeger werd alle informatie puur verwerkt door mensen voor mensen.\nEnorme kantoor gebouwen vol mensen waren bezig met administartie en verwerken van 'informatie'.\nDie informate werd opgeslagen op papier, alles wat aan informatie nodig was stond ergens op papier in een archief kast.\nOmdat het zo normaal is tegenwoordig ga ik je twee voorbeelden geven.\n\n___Voorbeeld 1___\n_Een voorbeeldje hiervan is je bankrekening.\nVroeger had de bank letterlijk jouw geld in een kluis.\nAlleen moest men dat bijhouden op papier.\nAls jij naar de bank toeging om geld op te halen dan moet men weten wat er op je rekening staat.\nMen moest controleren of je wel genoeg geld op je rekening had.\nEn vervolgens moest men dan afschrijven wat jij ophaalde en jouw het geld uit de kluis meegeven._\n\n_Dat lijkt erg makkelijk maar stel je nu eens voor dat je naar een bank in een andere stad gaat.\nHoe kunnen zij u weten of jij nog wel genoeg geld op je rekening hebt staan.\nHet andere bank kantoor moet dan per brief alle andere vestegingen laten weten hoeveel geld er op jouw rekening staat.\nDit resulteert in heel veel papier, brieven, archiefkasten, administratief personeel en gebouwen waarvanuit alles gebeurd en staat opgeslagen.\nDe Rabobank heeft ruim 7 miljoen klanten.\nMoet je je voorstellen dat men op het hoofdkantoor een archief ruimte heeft waarin gegevens van 7 miljoen klanten staan.\nEn jij moet de gegevens van 1 klant opzoeken en wijzigen.\nJe kunt je best goed voorstellen hoeveel werk het is om informatie op papier bij te houden_\n\n_Tegenwoordig staat deze informatie opgeslagen op een computer.\nHet is niet meer nodig om het op papier te zetten.\nElectronisch worden per seconde gegevens van miljoenen gewijzicht.\nEn achter dit hele process zit code dat geprogrammeerd word door een programmeur.\nPapieren systemen kunnen niet concureren tegen IT systemen.\nSteeds meer informatie komt digitaal ter beschikking, in elk vakgebied word IT groter._\n\n___Voorbeeld 2___\n_En dan nog een kleiner voorbeeld, en voorbeeld van iets wat je waarschijnlijk al meegemaakt hebt of wat je nog vaak zult doen.\nNamelijk, iets bestellen via internet.\nVroeger gingen mensen naar de winkel om iets te kopen.\nTegenwoordig kunnen we vrijwel alles via internet kopen.\nHet word dan per koerier naar ons toegebracht.\nStel je eens voor hoe dit mogelijk zou kunnen zijn zonder computer.\nStel je eens voor dat je alleen een telefoon hebt en elke maand een catalogus krijgt van een paar winkels.\nAls een product niet meer op vaarraad is kun je dat niet meteen zien.\nZelf al bel je de winkel, de telefoniste heeft geen computer waarop zij zou kunnen zien wat er in het magazijn staat.\nZe zou dan eerst het magazijn in moeten lopen en controleren of het product nog beschikbaar is.\nElke stap in het bestel process is door programeren gedigitaliseerd.\nEn zo worden steeds meer processen geautomatiseerd door de hand van programeren_\n\nZoals je in de voorbeelden kunt zien word programeren steeds belangrijker omdat steeds meer informatie digitaal word.\nJe hoeft tegenwoordig niet een ICT'er meer te zijn om in aanraking te komen met IT of programeren.\nOok als dokter, fabrieksmedewerker, laborant, verkoopmedewerker, etc. krijg je te maken met digitale informatie.\nHet is in een steeds groter wordende groep aan banen, zelf als je het niet direct verwacht, ook belangrijker om te kunnen programeren.\nAl is het maar een klein beetje.\nJe kunt zo bijvoorbeeld je mailbox configureren met slimme regels.\nDit is net zo goed programmeren, je programmeert dan je mailbox.\n\n## Wat is progameren\n\n"
    },
    {
      "metadata": {
        "trusted": true,
        "scrolled": true
      },
      "cell_type": "code",
      "source": "print(\"Hello world\");",
      "execution_count": 1,
      "outputs": [
        {
          "output_type": "stream",
          "text": "Hello world\n",
          "name": "stdout"
        }
      ]
    },
    {
      "metadata": {},
      "cell_type": "markdown",
      "source": "Laat je code "
    },
    {
      "metadata": {
        "trusted": true
      },
      "cell_type": "code",
      "source": "",
      "execution_count": null,
      "outputs": []
    },
    {
      "metadata": {},
      "cell_type": "markdown",
      "source": "# Variabelen "
    },
    {
      "metadata": {
        "trusted": true
      },
      "cell_type": "code",
      "source": "",
      "execution_count": null,
      "outputs": []
    },
    {
      "metadata": {},
      "cell_type": "markdown",
      "source": "## Data types"
    },
    {
      "metadata": {
        "trusted": true
      },
      "cell_type": "code",
      "source": "",
      "execution_count": null,
      "outputs": []
    },
    {
      "metadata": {
        "trusted": true
      },
      "cell_type": "code",
      "source": "",
      "execution_count": null,
      "outputs": []
    }
  ],
  "metadata": {
    "kernelspec": {
      "name": "python36",
      "display_name": "Python 3.6",
      "language": "python"
    },
    "language_info": {
      "mimetype": "text/x-python",
      "nbconvert_exporter": "python",
      "name": "python",
      "pygments_lexer": "ipython3",
      "version": "3.6.6",
      "file_extension": ".py",
      "codemirror_mode": {
        "version": 3,
        "name": "ipython"
      }
    }
  },
  "nbformat": 4,
  "nbformat_minor": 2
}