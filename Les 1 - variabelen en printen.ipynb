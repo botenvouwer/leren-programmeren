{
  "cells": [
    {
      "metadata": {
        "collapsed": true
      },
      "cell_type": "markdown",
      "source": "# Programeren les 1\n\n\nHallo lezer, we beginnen in deze les met de basis van de basis.\nWe kijken naar de volende drie vragen:\n\n1. Waarom programeren?\n1. Wat is programeren?\n1. Hoe moet je programeren?\n\n## Waarom programeren\nInformatie is overal om ons heen en word in de toekomst steeds belangrijker.\nSinds mensen schift hebben uitgevonden word informatie structureel opgelsagen als tekst.\nVroeger werd alle informatie puur verwerkt door mensen voor mensen.\nEnorme kantoor gebouwen vol mensen waren bezig met administartie en verwerken van 'informatie'.\nDie informate werd opgeslagen op papier, alles wat aan informatie nodig was stond ergens op papier in een archief kast.\nOmdat het zo normaal is tegenwoordig ga ik je twee voorbeelden geven.\n\n_Voorbeeld 1_\nEen voorbeeldje hiervan is je bank account.\nVroeger had de bank letterlijk jouw geld in een kluis.\nAlleen moet \n\n_Voorbeeld 2_"
    },
    {
      "metadata": {
        "trusted": true,
        "scrolled": true
      },
      "cell_type": "code",
      "source": "print(\"Hello world\");",
      "execution_count": 1,
      "outputs": [
        {
          "output_type": "stream",
          "text": "Hello world\n",
          "name": "stdout"
        }
      ]
    },
    {
      "metadata": {},
      "cell_type": "markdown",
      "source": "Laat je code "
    },
    {
      "metadata": {
        "trusted": true
      },
      "cell_type": "code",
      "source": "",
      "execution_count": null,
      "outputs": []
    },
    {
      "metadata": {},
      "cell_type": "markdown",
      "source": "# Variabelen "
    },
    {
      "metadata": {
        "trusted": true
      },
      "cell_type": "code",
      "source": "",
      "execution_count": null,
      "outputs": []
    },
    {
      "metadata": {},
      "cell_type": "markdown",
      "source": "## Data types"
    },
    {
      "metadata": {
        "trusted": true
      },
      "cell_type": "code",
      "source": "",
      "execution_count": null,
      "outputs": []
    },
    {
      "metadata": {
        "trusted": true
      },
      "cell_type": "code",
      "source": "",
      "execution_count": null,
      "outputs": []
    }
  ],
  "metadata": {
    "kernelspec": {
      "name": "python36",
      "display_name": "Python 3.6",
      "language": "python"
    },
    "language_info": {
      "mimetype": "text/x-python",
      "nbconvert_exporter": "python",
      "name": "python",
      "pygments_lexer": "ipython3",
      "version": "3.6.6",
      "file_extension": ".py",
      "codemirror_mode": {
        "version": 3,
        "name": "ipython"
      }
    }
  },
  "nbformat": 4,
  "nbformat_minor": 2
}